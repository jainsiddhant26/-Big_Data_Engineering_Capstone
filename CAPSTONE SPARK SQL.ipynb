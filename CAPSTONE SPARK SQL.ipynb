{
 "cells": [
  {
   "cell_type": "code",
   "execution_count": 130,
   "metadata": {},
   "outputs": [],
   "source": [
    "from pyspark.sql import SparkSession\n",
    "from pyspark.sql.functions import *\n",
    "from pyspark.sql.window import Window\n",
    "import pandas as pd\n",
    "from pyspark.sql.functions import translate\n",
    "import pyspark.sql.functions as F\n",
    "import re\n",
    "import seaborn as sns\n",
    "import matplotlib.pyplot as plt\n"
   ]
  },
  {
   "cell_type": "code",
   "execution_count": 131,
   "metadata": {},
   "outputs": [],
   "source": [
    "spark = (SparkSession.builder.appName(\"siddhant_cap\")\\\n",
    "        .config(\"hive.metastore.uris\",\"thrift://ip-10-1-2-24.ap-south-1.compute.internal:9083\")\\\n",
    "        .enableHiveSupport().getOrCreate())"
   ]
  },
  {
   "cell_type": "code",
   "execution_count": 132,
   "metadata": {},
   "outputs": [
    {
     "data": {
      "text/html": [
       "\n",
       "            <div>\n",
       "                <p><b>SparkSession - hive</b></p>\n",
       "                \n",
       "        <div>\n",
       "            <p><b>SparkContext</b></p>\n",
       "\n",
       "            <p><a href=\"http://ip-10-1-1-204.ap-south-1.compute.internal:43002\">Spark UI</a></p>\n",
       "\n",
       "            <dl>\n",
       "              <dt>Version</dt>\n",
       "                <dd><code>v2.4.0</code></dd>\n",
       "              <dt>Master</dt>\n",
       "                <dd><code>local[*]</code></dd>\n",
       "              <dt>AppName</dt>\n",
       "                <dd><code>siddhant_cap</code></dd>\n",
       "            </dl>\n",
       "        </div>\n",
       "        \n",
       "            </div>\n",
       "        "
      ],
      "text/plain": [
       "<pyspark.sql.session.SparkSession at 0x7f30b3d1da90>"
      ]
     },
     "execution_count": 132,
     "metadata": {},
     "output_type": "execute_result"
    }
   ],
   "source": [
    "spark"
   ]
  },
  {
   "cell_type": "code",
   "execution_count": 133,
   "metadata": {},
   "outputs": [
    {
     "name": "stdout",
     "output_type": "stream",
     "text": [
      "++\n",
      "||\n",
      "++\n",
      "++\n",
      "\n",
      "+-----------+------------+-----------+\n",
      "|   database|   tableName|isTemporary|\n",
      "+-----------+------------+-----------+\n",
      "|siddhantlab| departments|      false|\n",
      "|siddhantlab|    dept_emp|      false|\n",
      "|siddhantlab|dept_manager|      false|\n",
      "|siddhantlab|   employees|      false|\n",
      "|siddhantlab|  emp_tenure|      false|\n",
      "|siddhantlab|    salaries|      false|\n",
      "|siddhantlab|      tenure|      false|\n",
      "|siddhantlab|      titles|      false|\n",
      "+-----------+------------+-----------+\n",
      "\n"
     ]
    }
   ],
   "source": [
    "spark.sql(\"use siddhantlab\").show()\n",
    "spark.sql(\"show tables\").show()"
   ]
  },
  {
   "cell_type": "markdown",
   "metadata": {},
   "source": [
    "# Exploratory Data Analysis"
   ]
  },
  {
   "cell_type": "markdown",
   "metadata": {},
   "source": [
    "### 1. A list showing employee number, last name, first name, sex, and salary for each employee"
   ]
  },
  {
   "cell_type": "code",
   "execution_count": 5,
   "metadata": {},
   "outputs": [
    {
     "name": "stdout",
     "output_type": "stream",
     "text": [
      "The history saving thread hit an unexpected error (OperationalError('database or disk is full')).History will not be written to the database.\n",
      "+------+----------+----------+---+------+\n",
      "|emp_no| last_name|first_name|sex|salary|\n",
      "+------+----------+----------+---+------+\n",
      "|473302|  Zallocco|  Hideyuki|  M| 40000|\n",
      "|475053| Delgrande|     Byong|  F| 53422|\n",
      "| 57444|      Babb|     Berry|  F| 48973|\n",
      "|421786|  Verhoeff|     Xiong|  M| 40000|\n",
      "|282238|   Baumann|Abdelkader|  F| 40000|\n",
      "|263976|  Cusworth|      Eran|  M| 40000|\n",
      "|273487|   Parfitt| Christoph|  M| 56087|\n",
      "|461591|  Samarati|    Xudong|  M| 40000|\n",
      "|477657| Magliocco|    Lihong|  M| 54816|\n",
      "|219881|     Speek| Kwangyoen|  F| 40000|\n",
      "| 29920|     Tyugu|   Shuichi|  F| 40000|\n",
      "|208153|      Lunn|   Abdulah|  M| 50183|\n",
      "| 13616|     Lorho|     Perry|  F| 40000|\n",
      "|246449|Bultermann|     Subbu|  F| 87084|\n",
      "| 21529|  Zallocco|     Bojan|  M| 40000|\n",
      "| 17934|  Wuwongse|  Bilhanan|  M| 48795|\n",
      "| 48085|      Gilg|Venkatesan|  M| 63016|\n",
      "|239838|     Dulli|   Naftali|  M| 57715|\n",
      "|240129|    Karnin|     Roddy|  M| 43548|\n",
      "|205246|    Demizu|     Nevio|  F| 80252|\n",
      "+------+----------+----------+---+------+\n",
      "only showing top 20 rows\n",
      "\n"
     ]
    }
   ],
   "source": [
    "spark.sql(\"SELECT EM.emp_no, EM.last_name, EM.first_name, EM.sex, SAL.salary\\\n",
    "           FROM employees EM LEFT JOIN salaries SAL\\\n",
    "           ON EM.emp_no = SAL.emp_no\").show()"
   ]
  },
  {
   "cell_type": "markdown",
   "metadata": {},
   "source": [
    "### 2. A list showing first name, last name, and hire date for employees who were hired in 1986."
   ]
  },
  {
   "cell_type": "code",
   "execution_count": 6,
   "metadata": {},
   "outputs": [
    {
     "name": "stdout",
     "output_type": "stream",
     "text": [
      "+----------+-----------+----------+\n",
      "|first_name|  last_name| hire_date|\n",
      "+----------+-----------+----------+\n",
      "|      Eran|   Cusworth|1986-11-14|\n",
      "|     Bojan|   Zallocco|1986-10-14|\n",
      "|     Nevio|     Demizu|1986-05-18|\n",
      "|      Ziva|     Vecchi|1986-03-07|\n",
      "|     Mohit|      Speek|1986-01-14|\n",
      "|  Qunsheng|      Speer|1986-02-13|\n",
      "|     Dines|Encarnacion|1986-02-08|\n",
      "|  Harngdar|      Swick|1986-05-28|\n",
      "|    Freyja|      Uhrig|1986-12-20|\n",
      "|   Zhenhua|    Milicic|1986-04-08|\n",
      "|     Bowen|   Schmezko|1986-05-30|\n",
      "|    Reuven|      Munke|1986-04-13|\n",
      "| Stabislas|    Domenig|1986-04-08|\n",
      "| Juichirou|   Jumpertz|1986-09-18|\n",
      "| Juichirou|     Ghelli|1986-12-13|\n",
      "|    Shmuel|      Georg|1986-11-30|\n",
      "|   Xiadong|       Bach|1986-04-29|\n",
      "| Guangming|Butterworth|1986-01-10|\n",
      "|     Irene|      Setia|1986-10-08|\n",
      "|   Shuichi|     Swiler|1986-08-06|\n",
      "+----------+-----------+----------+\n",
      "only showing top 20 rows\n",
      "\n"
     ]
    }
   ],
   "source": [
    "spark.sql(\"SELECT first_name,last_name,hire_date FROM employees WHERE  substr(hire_date,1,4) = '1986'\").show()"
   ]
  },
  {
   "cell_type": "markdown",
   "metadata": {},
   "source": [
    "### 3. A list showing the manager of each department with the following information: department number, department name, the manager's employee number, last name, first name."
   ]
  },
  {
   "cell_type": "code",
   "execution_count": 7,
   "metadata": {},
   "outputs": [
    {
     "name": "stdout",
     "output_type": "stream",
     "text": [
      "+-------+------+------------+-----------+\n",
      "|dept_no|emp_no|   last_name| first_name|\n",
      "+-------+------+------------+-----------+\n",
      "|   d009|111877|    Spinelli|    Xiaobin|\n",
      "|   d008|111534|      Kambil|     Hilary|\n",
      "|   d006|110765|     Hofmeyr|     Rutger|\n",
      "|   d004|110420|    Ghazalie|      Oscar|\n",
      "|   d006|110725|     Onuegbe|  Peternela|\n",
      "|   d001|110022|  Markovitch|  Margareta|\n",
      "|   d007|111035|   Kaelbling|Przemyslawa|\n",
      "|   d005|110511|    Hagimont|   DeForest|\n",
      "|   d005|110567|    DasSarma|       Leon|\n",
      "|   d003|110183|Ossenbruggen|    Shirish|\n",
      "|   d009|111939|     Weedman|    Yuchang|\n",
      "|   d002|110114|  Legleitner|      Isamu|\n",
      "|   d006|110854|       Pesch|       Dung|\n",
      "|   d001|110039|    Minakawa|   Vishwani|\n",
      "|   d006|110800|     Quadeer|     Sanjoy|\n",
      "|   d003|110228|     Sigstam|    Karsten|\n",
      "|   d004|110303|     Wegerle|  Krassimir|\n",
      "|   d004|110344|       Cools|     Rosine|\n",
      "|   d009|111692| Butterworth|      Tonny|\n",
      "|   d008|111400|     Staelin|       Arie|\n",
      "+-------+------+------------+-----------+\n",
      "only showing top 20 rows\n",
      "\n"
     ]
    }
   ],
   "source": [
    "spark.sql(\"SELECT DPT.dept_no,DM.emp_no,EMP.last_name,EMP.first_name FROM departments DPT\\\n",
    "           INNER JOIN dept_manager  DM\\\n",
    "           ON DPT.dept_no = DM.dept_no\\\n",
    "           INNER JOIN employees EMP\\\n",
    "           ON DM.emp_no = EMP.emp_no\").show()"
   ]
  },
  {
   "cell_type": "markdown",
   "metadata": {},
   "source": [
    "### 4. A list showing the department of each employee with the following information: employee number, last name, first name, and department name."
   ]
  },
  {
   "cell_type": "code",
   "execution_count": 8,
   "metadata": {},
   "outputs": [
    {
     "name": "stdout",
     "output_type": "stream",
     "text": [
      "+------+-----------+----------+--------------------+\n",
      "|emp_no|  last_name|first_name|           dept_name|\n",
      "+------+-----------+----------+--------------------+\n",
      "| 10001|    Facello|    Georgi|       \"development\"|\n",
      "| 10002|     Simmel|   Bezalel|             \"Sales\"|\n",
      "| 10003|    Bamford|     Parto|        \"Production\"|\n",
      "| 10004|    Koblick| Chirstian|        \"Production\"|\n",
      "| 10005|   Maliniak|   Kyoichi|   \"Human Resources\"|\n",
      "| 10006|    Preusig|    Anneke|       \"development\"|\n",
      "| 10007|  Zielinski|   Tzvetan|          \"Research\"|\n",
      "| 10008|   Kalloufi|    Saniya|       \"development\"|\n",
      "| 10009|       Peac|    Sumant|\"Quality Management\"|\n",
      "| 10010|   Piveteau| Duangkaew|        \"Production\"|\n",
      "| 10010|   Piveteau| Duangkaew|\"Quality Management\"|\n",
      "| 10011|      Sluis|      Mary|  \"Customer Service\"|\n",
      "| 10012|  Bridgland|  Patricio|       \"development\"|\n",
      "| 10013|     Terkki| Eberhardt|   \"Human Resources\"|\n",
      "| 10014|      Genin|     Berni|       \"development\"|\n",
      "| 10015|  Nooteboom|  Guoxiang|          \"Research\"|\n",
      "| 10016|Cappelletti|  Kazuhito|             \"Sales\"|\n",
      "| 10017|  Bouloucos| Cristinel|         \"Marketing\"|\n",
      "| 10018|       Peha|  Kazuhide|        \"Production\"|\n",
      "| 10018|       Peha|  Kazuhide|       \"development\"|\n",
      "+------+-----------+----------+--------------------+\n",
      "only showing top 20 rows\n",
      "\n"
     ]
    }
   ],
   "source": [
    "spark.sql(\"SELECT DE.emp_no, EMP.last_name,EMP.first_name,DPT.dept_name FROM departments DPT\\\n",
    "           INNER JOIN dept_emp DE\\\n",
    "           ON DPT.dept_no = DE.dept_no\\\n",
    "           INNER JOIN employees EMP\\\n",
    "           ON DE.emp_no = EMP.emp_no\").show()"
   ]
  },
  {
   "cell_type": "markdown",
   "metadata": {},
   "source": [
    "### 5. A list showing first name, last name, and sex for employees whose first name is \"Hercules\" and last names begin with \"B.“"
   ]
  },
  {
   "cell_type": "code",
   "execution_count": 9,
   "metadata": {},
   "outputs": [
    {
     "name": "stdout",
     "output_type": "stream",
     "text": [
      "+----------+-------------+---+\n",
      "|first_name|    last_name|sex|\n",
      "+----------+-------------+---+\n",
      "|  Hercules|         Baer|  M|\n",
      "|  Hercules|        Biron|  F|\n",
      "|  Hercules|        Birge|  F|\n",
      "|  Hercules|      Berstel|  F|\n",
      "|  Hercules|    Bernatsky|  M|\n",
      "|  Hercules|         Bail|  F|\n",
      "|  Hercules|       Bodoff|  M|\n",
      "|  Hercules|     Benantar|  F|\n",
      "|  Hercules|      Basagni|  M|\n",
      "|  Hercules|Bernardinello|  F|\n",
      "|  Hercules|   Baranowski|  M|\n",
      "|  Hercules|      Bisiani|  F|\n",
      "|  Hercules|   Benzmuller|  M|\n",
      "|  Hercules|         Bahr|  M|\n",
      "|  Hercules|        Biran|  F|\n",
      "|  Hercules|         Bain|  F|\n",
      "|  Hercules|      Brendel|  F|\n",
      "|  Hercules|      Buchter|  M|\n",
      "|  Hercules|     Barreiro|  M|\n",
      "|  Hercules|         Baak|  M|\n",
      "+----------+-------------+---+\n",
      "\n"
     ]
    }
   ],
   "source": [
    "spark.sql(\"SELECT first_name,last_name ,sex FROM employees WHERE first_name = 'Hercules' AND last_name LIKE('B%')\").show()"
   ]
  },
  {
   "cell_type": "markdown",
   "metadata": {},
   "source": [
    "### 6. A list showing all employees in the Sales department, including their employee number, last name, first name, and department name."
   ]
  },
  {
   "cell_type": "code",
   "execution_count": 13,
   "metadata": {},
   "outputs": [
    {
     "name": "stdout",
     "output_type": "stream",
     "text": [
      "+------+-------------+----------+---------+\n",
      "|emp_no|    last_name|first_name|dept_name|\n",
      "+------+-------------+----------+---------+\n",
      "|246449|   Bultermann|     Subbu|  \"Sales\"|\n",
      "|205246|       Demizu|     Nevio|  \"Sales\"|\n",
      "|476443|       Asmuth|      Ziya|  \"Sales\"|\n",
      "|424270|    Yoshizawa|    Kellyn|  \"Sales\"|\n",
      "|280408|         Perl|   Elliott|  \"Sales\"|\n",
      "|289261|     Nollmann|       Gad|  \"Sales\"|\n",
      "|444985|     Verspoor|      Giap|  \"Sales\"|\n",
      "|477628|Beutelspacher|      Duro|  \"Sales\"|\n",
      "| 42625|        Swick|  Harngdar|  \"Sales\"|\n",
      "| 85093|       Covnot| Nectarios|  \"Sales\"|\n",
      "|205366|    Shimshoni|  Kazuhira|  \"Sales\"|\n",
      "| 37601|    Naumovich|   Gilbert|  \"Sales\"|\n",
      "|437985|        Munke|    Reuven|  \"Sales\"|\n",
      "| 28823|     Skafidas|     Tonny|  \"Sales\"|\n",
      "|107258|       Zaumen|    Parviz|  \"Sales\"|\n",
      "| 11980|         Pews| Yechezkel|  \"Sales\"|\n",
      "|457800|      Domenig| Stabislas|  \"Sales\"|\n",
      "|414537|     Businaro|   Chikara|  \"Sales\"|\n",
      "|414885|       Vecchi|   Candido|  \"Sales\"|\n",
      "|217945|        Georg|    Shmuel|  \"Sales\"|\n",
      "+------+-------------+----------+---------+\n",
      "only showing top 20 rows\n",
      "\n"
     ]
    }
   ],
   "source": [
    "spark.sql(\"SELECT EMP.emp_no,EMP.last_name,EMP.first_name,DPT.dept_name FROM employees EMP LEFT JOIN dept_emp DE ON EMP.emp_no = DE.emp_no LEFT JOIN departments DPT ON DE.dept_no = DPT.dept_no WHERE DPT.dept_name = '\\\"Sales\\\"'\").show()"
   ]
  },
  {
   "cell_type": "markdown",
   "metadata": {},
   "source": [
    "### 7. A list showing all employees in the Sales and Development departments, including their employee number, last name, first name, and department name."
   ]
  },
  {
   "cell_type": "code",
   "execution_count": 15,
   "metadata": {
    "scrolled": true
   },
   "outputs": [
    {
     "name": "stdout",
     "output_type": "stream",
     "text": [
      "+------+-------------+----------+---------+\n",
      "|emp_no|    last_name|first_name|dept_name|\n",
      "+------+-------------+----------+---------+\n",
      "|246449|   Bultermann|     Subbu|  \"Sales\"|\n",
      "|205246|       Demizu|     Nevio|  \"Sales\"|\n",
      "|476443|       Asmuth|      Ziya|  \"Sales\"|\n",
      "|424270|    Yoshizawa|    Kellyn|  \"Sales\"|\n",
      "|280408|         Perl|   Elliott|  \"Sales\"|\n",
      "|289261|     Nollmann|       Gad|  \"Sales\"|\n",
      "|444985|     Verspoor|      Giap|  \"Sales\"|\n",
      "|477628|Beutelspacher|      Duro|  \"Sales\"|\n",
      "| 42625|        Swick|  Harngdar|  \"Sales\"|\n",
      "| 85093|       Covnot| Nectarios|  \"Sales\"|\n",
      "|205366|    Shimshoni|  Kazuhira|  \"Sales\"|\n",
      "| 37601|    Naumovich|   Gilbert|  \"Sales\"|\n",
      "|437985|        Munke|    Reuven|  \"Sales\"|\n",
      "| 28823|     Skafidas|     Tonny|  \"Sales\"|\n",
      "|107258|       Zaumen|    Parviz|  \"Sales\"|\n",
      "| 11980|         Pews| Yechezkel|  \"Sales\"|\n",
      "|457800|      Domenig| Stabislas|  \"Sales\"|\n",
      "|414537|     Businaro|   Chikara|  \"Sales\"|\n",
      "|414885|       Vecchi|   Candido|  \"Sales\"|\n",
      "|217945|        Georg|    Shmuel|  \"Sales\"|\n",
      "+------+-------------+----------+---------+\n",
      "only showing top 20 rows\n",
      "\n"
     ]
    }
   ],
   "source": [
    "spark.sql(\"\"\"SELECT EMP.emp_no,EMP.last_name,EMP.first_name,DPT.dept_name FROM employees EMP LEFT JOIN dept_emp DE ON EMP.emp_no = DE.emp_no LEFT JOIN departments DPT ON DE.dept_no = DPT.dept_no WHERE DPT.dept_name IN('\"Sales\"','\"Development\"')\"\"\").show()"
   ]
  },
  {
   "cell_type": "markdown",
   "metadata": {},
   "source": [
    "### 8. A list showing the frequency count of employee last names, in descending order. ( i.e., how many employees share each last name"
   ]
  },
  {
   "cell_type": "code",
   "execution_count": 34,
   "metadata": {},
   "outputs": [
    {
     "name": "stdout",
     "output_type": "stream",
     "text": [
      "+---------+-------------+\n",
      "|last_name|count(emp_no)|\n",
      "+---------+-------------+\n",
      "|  dAstous|          166|\n",
      "|     Zykh|          148|\n",
      "|     Zyda|          181|\n",
      "|  Zwicker|          176|\n",
      "|  Zweizig|          180|\n",
      "|  Zumaque|          195|\n",
      "|  Zultner|          177|\n",
      "|   Zucker|          185|\n",
      "|  Zuberek|          209|\n",
      "| Zschoche|          165|\n",
      "|  Zongker|          192|\n",
      "| Zolotykh|          183|\n",
      "|  Zockler|          173|\n",
      "|    Zobel|          162|\n",
      "|   Zlotek|          182|\n",
      "|    Zizka|          180|\n",
      "|Zirintsis|          188|\n",
      "|Zielinski|          172|\n",
      "|   Zhiwei|          177|\n",
      "|    Zhang|          163|\n",
      "+---------+-------------+\n",
      "only showing top 20 rows\n",
      "\n"
     ]
    }
   ],
   "source": [
    "spark.sql(\"SELECT last_name , count(emp_no) FROM employees GROUP BY last_name ORDER BY last_name DESC\").show()"
   ]
  },
  {
   "cell_type": "markdown",
   "metadata": {},
   "source": [
    "### 9. Histogram to show the salary distribution among the employees"
   ]
  },
  {
   "cell_type": "code",
   "execution_count": 29,
   "metadata": {},
   "outputs": [
    {
     "name": "stdout",
     "output_type": "stream",
     "text": [
      "+--------------+-------------+\n",
      "|   Salary_bins|count(emp_no)|\n",
      "+--------------+-------------+\n",
      "|       80 -90k|        11844|\n",
      "|       60 -70k|        41404|\n",
      "|          null|           19|\n",
      "|          10k+|         1287|\n",
      "|Less than 40k |        95346|\n",
      "|      90 -100k|         4284|\n",
      "|       70 -80k|        24813|\n",
      "|       50 -60k|        57908|\n",
      "|        40-50k|        63119|\n",
      "+--------------+-------------+\n",
      "\n"
     ]
    }
   ],
   "source": [
    "spark.sql(\"\"\"SELECT T1.Salary_bins , count(T1.emp_no) FROM (SELECT\n",
    "CASE\n",
    "when SAL.salary <= 40000 then 'Less than 40k '\n",
    "when SAL.salary > 40000 and SAL.salary < 50000 then '40-50k'\n",
    "when SAL.salary > 50000 and SAL.salary < 60000 then '50 -60k'\n",
    "when SAL.salary > 60000 and SAL.salary < 70000 then '60 -70k'\n",
    "when SAL.salary > 70000 and SAL.salary < 80000 then '70 -80k'\n",
    "when SAL.salary > 80000 and SAL.salary < 90000 then '80 -90k'\n",
    "when SAL.salary > 90000 and SAL.salary < 100000 then '90 -100k'\n",
    "when SAL.salary > 100000 then '10k+'\n",
    "END AS Salary_bins, EMP.emp_no\n",
    "FROM employees EMP\n",
    "INNER JOIN salaries SAL ON EMP.emp_no = SAL.emp_no ) T1\n",
    "GROUP BY T1.Salary_bins\"\"\").show()"
   ]
  },
  {
   "cell_type": "code",
   "execution_count": 24,
   "metadata": {},
   "outputs": [],
   "source": [
    "salaries = spark.sql(\"select * from siddhantlab.salaries\")"
   ]
  },
  {
   "cell_type": "code",
   "execution_count": 25,
   "metadata": {},
   "outputs": [],
   "source": [
    "sal1 = salaries.toPandas()"
   ]
  },
  {
   "cell_type": "code",
   "execution_count": 26,
   "metadata": {},
   "outputs": [
    {
     "data": {
      "text/html": [
       "<div>\n",
       "<style scoped>\n",
       "    .dataframe tbody tr th:only-of-type {\n",
       "        vertical-align: middle;\n",
       "    }\n",
       "\n",
       "    .dataframe tbody tr th {\n",
       "        vertical-align: top;\n",
       "    }\n",
       "\n",
       "    .dataframe thead th {\n",
       "        text-align: right;\n",
       "    }\n",
       "</style>\n",
       "<table border=\"1\" class=\"dataframe\">\n",
       "  <thead>\n",
       "    <tr style=\"text-align: right;\">\n",
       "      <th></th>\n",
       "      <th>emp_no</th>\n",
       "      <th>salary</th>\n",
       "    </tr>\n",
       "  </thead>\n",
       "  <tbody>\n",
       "    <tr>\n",
       "      <th>0</th>\n",
       "      <td>10001</td>\n",
       "      <td>60117</td>\n",
       "    </tr>\n",
       "    <tr>\n",
       "      <th>1</th>\n",
       "      <td>10002</td>\n",
       "      <td>65828</td>\n",
       "    </tr>\n",
       "    <tr>\n",
       "      <th>2</th>\n",
       "      <td>10003</td>\n",
       "      <td>40006</td>\n",
       "    </tr>\n",
       "    <tr>\n",
       "      <th>3</th>\n",
       "      <td>10004</td>\n",
       "      <td>40054</td>\n",
       "    </tr>\n",
       "    <tr>\n",
       "      <th>4</th>\n",
       "      <td>10005</td>\n",
       "      <td>78228</td>\n",
       "    </tr>\n",
       "    <tr>\n",
       "      <th>...</th>\n",
       "      <td>...</td>\n",
       "      <td>...</td>\n",
       "    </tr>\n",
       "    <tr>\n",
       "      <th>300019</th>\n",
       "      <td>499995</td>\n",
       "      <td>40000</td>\n",
       "    </tr>\n",
       "    <tr>\n",
       "      <th>300020</th>\n",
       "      <td>499996</td>\n",
       "      <td>58058</td>\n",
       "    </tr>\n",
       "    <tr>\n",
       "      <th>300021</th>\n",
       "      <td>499997</td>\n",
       "      <td>49597</td>\n",
       "    </tr>\n",
       "    <tr>\n",
       "      <th>300022</th>\n",
       "      <td>499998</td>\n",
       "      <td>40000</td>\n",
       "    </tr>\n",
       "    <tr>\n",
       "      <th>300023</th>\n",
       "      <td>499999</td>\n",
       "      <td>63707</td>\n",
       "    </tr>\n",
       "  </tbody>\n",
       "</table>\n",
       "<p>300024 rows × 2 columns</p>\n",
       "</div>"
      ],
      "text/plain": [
       "        emp_no  salary\n",
       "0        10001   60117\n",
       "1        10002   65828\n",
       "2        10003   40006\n",
       "3        10004   40054\n",
       "4        10005   78228\n",
       "...        ...     ...\n",
       "300019  499995   40000\n",
       "300020  499996   58058\n",
       "300021  499997   49597\n",
       "300022  499998   40000\n",
       "300023  499999   63707\n",
       "\n",
       "[300024 rows x 2 columns]"
      ]
     },
     "execution_count": 26,
     "metadata": {},
     "output_type": "execute_result"
    }
   ],
   "source": [
    "sal1"
   ]
  },
  {
   "cell_type": "code",
   "execution_count": 28,
   "metadata": {},
   "outputs": [
    {
     "data": {
      "image/png": "[encoded data removed]",
      "text/plain": [
       "<Figure size 720x720 with 1 Axes>"
      ]
     },
     "metadata": {
      "needs_background": "light"
     },
     "output_type": "display_data"
    }
   ],
   "source": [
    "plt.rcParams['figure.figsize']=(10,10)\n",
    "plt.hist(sal1['salary'],bins=9,alpha=1,edgecolor='black')\n",
    "plt.title('Salary distribution',fontsize=16,pad=40)\n",
    "plt.xlabel('Salaries',fontsize=14,labelpad=20)\n",
    "plt.ylabel('Frequency Count',fontsize=14,labelpad=20)\n",
    "plt.xlim(36000,130000)\n",
    "plt.xticks(fontsize=10)\n",
    "plt.yticks(fontsize=10)\n",
    "plt.show()"
   ]
  },
  {
   "cell_type": "code",
   "execution_count": null,
   "metadata": {},
   "outputs": [],
   "source": []
  },
  {
   "cell_type": "markdown",
   "metadata": {},
   "source": [
    "### 10. Bar graph to show the Average salary per title (designation)"
   ]
  },
  {
   "cell_type": "code",
   "execution_count": 26,
   "metadata": {},
   "outputs": [],
   "source": [
    "import pandas as pd"
   ]
  },
  {
   "cell_type": "code",
   "execution_count": 134,
   "metadata": {
    "scrolled": true
   },
   "outputs": [
    {
     "name": "stdout",
     "output_type": "stream",
     "text": [
      "+------------------+------------------+\n",
      "|             title|       avg(salary)|\n",
      "+------------------+------------------+\n",
      "|             Staff| 58465.38285033152|\n",
      "|Assistant Engineer| 48564.43444730077|\n",
      "|      Senior Staff| 58550.17270435993|\n",
      "|   Senior Engineer| 48506.79987109579|\n",
      "|          Engineer|48535.336511426336|\n",
      "|           Manager|51531.041666666664|\n",
      "|  Technique Leader| 48582.89609189332|\n",
      "+------------------+------------------+\n",
      "\n"
     ]
    }
   ],
   "source": [
    "spark.sql(\"SELECT T.title, avg(SAL.salary) FROM employees EMP inner join titles T on EMP.emp_title_id = T.title_id inner join salaries SAL  on EMP.emp_no = SAL.emp_no group by T.title \").show()"
   ]
  },
  {
   "cell_type": "code",
   "execution_count": 138,
   "metadata": {},
   "outputs": [],
   "source": [
    "sal = spark.sql(\"SELECT T.title, avg(SAL.salary) AS avg_salary FROM employees EMP inner join titles T on EMP.emp_title_id = T.title_id inner join salaries SAL  on EMP.emp_no = SAL.emp_no group by T.title \")"
   ]
  },
  {
   "cell_type": "code",
   "execution_count": 139,
   "metadata": {},
   "outputs": [],
   "source": [
    "avg_sal = sal.toPandas()"
   ]
  },
  {
   "cell_type": "code",
   "execution_count": 140,
   "metadata": {},
   "outputs": [
    {
     "data": {
      "text/html": [
       "<div>\n",
       "<style scoped>\n",
       "    .dataframe tbody tr th:only-of-type {\n",
       "        vertical-align: middle;\n",
       "    }\n",
       "\n",
       "    .dataframe tbody tr th {\n",
       "        vertical-align: top;\n",
       "    }\n",
       "\n",
       "    .dataframe thead th {\n",
       "        text-align: right;\n",
       "    }\n",
       "</style>\n",
       "<table border=\"1\" class=\"dataframe\">\n",
       "  <thead>\n",
       "    <tr style=\"text-align: right;\">\n",
       "      <th></th>\n",
       "      <th>title</th>\n",
       "      <th>avg_salary</th>\n",
       "    </tr>\n",
       "  </thead>\n",
       "  <tbody>\n",
       "    <tr>\n",
       "      <th>0</th>\n",
       "      <td>Staff</td>\n",
       "      <td>58465.382850</td>\n",
       "    </tr>\n",
       "    <tr>\n",
       "      <th>1</th>\n",
       "      <td>Assistant Engineer</td>\n",
       "      <td>48564.434447</td>\n",
       "    </tr>\n",
       "    <tr>\n",
       "      <th>2</th>\n",
       "      <td>Senior Staff</td>\n",
       "      <td>58550.172704</td>\n",
       "    </tr>\n",
       "    <tr>\n",
       "      <th>3</th>\n",
       "      <td>Senior Engineer</td>\n",
       "      <td>48506.799871</td>\n",
       "    </tr>\n",
       "    <tr>\n",
       "      <th>4</th>\n",
       "      <td>Engineer</td>\n",
       "      <td>48535.336511</td>\n",
       "    </tr>\n",
       "    <tr>\n",
       "      <th>5</th>\n",
       "      <td>Manager</td>\n",
       "      <td>51531.041667</td>\n",
       "    </tr>\n",
       "    <tr>\n",
       "      <th>6</th>\n",
       "      <td>Technique Leader</td>\n",
       "      <td>48582.896092</td>\n",
       "    </tr>\n",
       "  </tbody>\n",
       "</table>\n",
       "</div>"
      ],
      "text/plain": [
       "                title    avg_salary\n",
       "0               Staff  58465.382850\n",
       "1  Assistant Engineer  48564.434447\n",
       "2        Senior Staff  58550.172704\n",
       "3     Senior Engineer  48506.799871\n",
       "4            Engineer  48535.336511\n",
       "5             Manager  51531.041667\n",
       "6    Technique Leader  48582.896092"
      ]
     },
     "execution_count": 140,
     "metadata": {},
     "output_type": "execute_result"
    }
   ],
   "source": [
    "avg_sal"
   ]
  },
  {
   "cell_type": "code",
   "execution_count": 147,
   "metadata": {},
   "outputs": [
    {
     "data": {
      "image/png": "[encoded data removed]",
      "text/plain": [
       "<Figure size 936x576 with 1 Axes>"
      ]
     },
     "metadata": {},
     "output_type": "display_data"
    }
   ],
   "source": [
    "plt.figure(figsize=(13,8))\n",
    "sns.barplot(x = avg_sal.title, y = avg_sal.avg_salary, palette='viridis')\n",
    "plt.show()"
   ]
  },
  {
   "cell_type": "code",
   "execution_count": null,
   "metadata": {},
   "outputs": [],
   "source": []
  },
  {
   "cell_type": "markdown",
   "metadata": {},
   "source": [
    "### 11. Calculate employee tenure & show the tenure distribution among the employees"
   ]
  },
  {
   "cell_type": "code",
   "execution_count": 63,
   "metadata": {},
   "outputs": [
    {
     "name": "stdout",
     "output_type": "stream",
     "text": [
      "+------------+-------------+-----------+\n",
      "|  first_name|    last_name|sum(salary)|\n",
      "+------------+-------------+-----------+\n",
      "|    Mohammad|       Ullian|     267002|\n",
      "|      Bartek|      Garnier|     259201|\n",
      "|     Rosalyn|       Baalen|     257234|\n",
      "|    Radoslaw|         Pfau|     254066|\n",
      "|         Gad|        Krone|     251992|\n",
      "|      Divine|      Ebeling|     248562|\n",
      "|        Iara|      Breugel|     246766|\n",
      "|        Eben|    Francisci|     243202|\n",
      "|    Yonghong|      Codenie|     241874|\n",
      "|     Zongyan|      DiGiano|     241645|\n",
      "|   Laurentiu|     Cesareni|     239415|\n",
      "| Constantijn|     Pramanik|     236752|\n",
      "|    Yuichiro|      Brendel|     235377|\n",
      "|    Branimir|     Griswold|     235302|\n",
      "|    Jasminko|        Junot|     234801|\n",
      "|      Jaques|       Zaiane|     233109|\n",
      "|Sivanarayana|Chandrasekhar|     230977|\n",
      "|    Jasminko|   Goldhammer|     230706|\n",
      "|     Martijn|   Besancenot|     230697|\n",
      "|        Marc|       Stille|     228853|\n",
      "+------------+-------------+-----------+\n",
      "only showing top 20 rows\n",
      "\n"
     ]
    }
   ],
   "source": [
    "spark.sql(\"select t1.first_name,t1.last_name,sum(t2.salary) from employees t1 left join salaries t2 on t1.emp_no = t2.emp_no group by t1.first_name,t1.last_name order by sum(t2.salary) desc\").show()"
   ]
  },
  {
   "cell_type": "markdown",
   "metadata": {},
   "source": [
    "### 12. Count of employee gender distribution"
   ]
  },
  {
   "cell_type": "code",
   "execution_count": 6,
   "metadata": {},
   "outputs": [
    {
     "name": "stdout",
     "output_type": "stream",
     "text": [
      "+---+-------------+\n",
      "|sex|count(emp_no)|\n",
      "+---+-------------+\n",
      "|  F|       120051|\n",
      "|  M|       179973|\n",
      "+---+-------------+\n",
      "\n"
     ]
    }
   ],
   "source": [
    "spark.sql(\"SELECT sex , COUNT(emp_no) FROM employees GROUP BY sex\").show()"
   ]
  },
  {
   "cell_type": "code",
   "execution_count": 19,
   "metadata": {},
   "outputs": [],
   "source": [
    "ep_gender = spark.sql(\"SELECT sex , COUNT(emp_no) as Count FROM employees GROUP BY sex\")"
   ]
  },
  {
   "cell_type": "code",
   "execution_count": 22,
   "metadata": {},
   "outputs": [
    {
     "data": {
      "text/html": [
       "<div>\n",
       "<style scoped>\n",
       "    .dataframe tbody tr th:only-of-type {\n",
       "        vertical-align: middle;\n",
       "    }\n",
       "\n",
       "    .dataframe tbody tr th {\n",
       "        vertical-align: top;\n",
       "    }\n",
       "\n",
       "    .dataframe thead th {\n",
       "        text-align: right;\n",
       "    }\n",
       "</style>\n",
       "<table border=\"1\" class=\"dataframe\">\n",
       "  <thead>\n",
       "    <tr style=\"text-align: right;\">\n",
       "      <th></th>\n",
       "      <th>sex</th>\n",
       "      <th>Count</th>\n",
       "    </tr>\n",
       "  </thead>\n",
       "  <tbody>\n",
       "    <tr>\n",
       "      <th>0</th>\n",
       "      <td>F</td>\n",
       "      <td>120051</td>\n",
       "    </tr>\n",
       "    <tr>\n",
       "      <th>1</th>\n",
       "      <td>M</td>\n",
       "      <td>179973</td>\n",
       "    </tr>\n",
       "  </tbody>\n",
       "</table>\n",
       "</div>"
      ],
      "text/plain": [
       "  sex   Count\n",
       "0   F  120051\n",
       "1   M  179973"
      ]
     },
     "execution_count": 22,
     "metadata": {},
     "output_type": "execute_result"
    }
   ],
   "source": [
    "ep = ep_gender.toPandas()\n",
    "ep"
   ]
  },
  {
   "cell_type": "code",
   "execution_count": 25,
   "metadata": {},
   "outputs": [
    {
     "data": {
      "image/png": "[encoded data removed]",
      "text/plain": [
       "<Figure size 432x288 with 1 Axes>"
      ]
     },
     "metadata": {},
     "output_type": "display_data"
    }
   ],
   "source": [
    "sns.barplot(x = ep.sex, y = ep.Count, palette='coolwarm')\n",
    "plt.show()"
   ]
  },
  {
   "cell_type": "markdown",
   "metadata": {},
   "source": [
    "### 13. Count of employees based on rating."
   ]
  },
  {
   "cell_type": "code",
   "execution_count": 43,
   "metadata": {},
   "outputs": [
    {
     "name": "stdout",
     "output_type": "stream",
     "text": [
      "+-----------------------+-------------+\n",
      "|Last_performance_rating|count(emp_no)|\n",
      "+-----------------------+-------------+\n",
      "|                      B|       107154|\n",
      "|                      C|        71304|\n",
      "|                      A|        95919|\n",
      "|                      S|        10542|\n",
      "|                    PIP|        15105|\n",
      "+-----------------------+-------------+\n",
      "\n"
     ]
    }
   ],
   "source": [
    "spark.sql(\"SELECT Last_performance_rating , COUNT(emp_no) FROM employees GROUP BY last_performance_rating\").show()"
   ]
  },
  {
   "cell_type": "code",
   "execution_count": 64,
   "metadata": {},
   "outputs": [],
   "source": [
    "rating = spark.sql(\"SELECT Last_performance_rating , COUNT(emp_no) AS total_employee FROM employees GROUP BY last_performance_rating\")"
   ]
  },
  {
   "cell_type": "code",
   "execution_count": 65,
   "metadata": {},
   "outputs": [],
   "source": [
    "rate = rating.toPandas()"
   ]
  },
  {
   "cell_type": "code",
   "execution_count": 66,
   "metadata": {},
   "outputs": [
    {
     "data": {
      "text/html": [
       "<div>\n",
       "<style scoped>\n",
       "    .dataframe tbody tr th:only-of-type {\n",
       "        vertical-align: middle;\n",
       "    }\n",
       "\n",
       "    .dataframe tbody tr th {\n",
       "        vertical-align: top;\n",
       "    }\n",
       "\n",
       "    .dataframe thead th {\n",
       "        text-align: right;\n",
       "    }\n",
       "</style>\n",
       "<table border=\"1\" class=\"dataframe\">\n",
       "  <thead>\n",
       "    <tr style=\"text-align: right;\">\n",
       "      <th></th>\n",
       "      <th>Last_performance_rating</th>\n",
       "      <th>total_employee</th>\n",
       "    </tr>\n",
       "  </thead>\n",
       "  <tbody>\n",
       "    <tr>\n",
       "      <th>0</th>\n",
       "      <td>B</td>\n",
       "      <td>107154</td>\n",
       "    </tr>\n",
       "    <tr>\n",
       "      <th>1</th>\n",
       "      <td>C</td>\n",
       "      <td>71304</td>\n",
       "    </tr>\n",
       "    <tr>\n",
       "      <th>2</th>\n",
       "      <td>A</td>\n",
       "      <td>95919</td>\n",
       "    </tr>\n",
       "    <tr>\n",
       "      <th>3</th>\n",
       "      <td>S</td>\n",
       "      <td>10542</td>\n",
       "    </tr>\n",
       "    <tr>\n",
       "      <th>4</th>\n",
       "      <td>PIP</td>\n",
       "      <td>15105</td>\n",
       "    </tr>\n",
       "  </tbody>\n",
       "</table>\n",
       "</div>"
      ],
      "text/plain": [
       "  Last_performance_rating  total_employee\n",
       "0                       B          107154\n",
       "1                       C           71304\n",
       "2                       A           95919\n",
       "3                       S           10542\n",
       "4                     PIP           15105"
      ]
     },
     "execution_count": 66,
     "metadata": {},
     "output_type": "execute_result"
    }
   ],
   "source": [
    "rate"
   ]
  },
  {
   "cell_type": "code",
   "execution_count": 67,
   "metadata": {},
   "outputs": [],
   "source": [
    "last_rating = rate.Last_performance_rating\n",
    "num_of_employees = rate.total_employee"
   ]
  },
  {
   "cell_type": "code",
   "execution_count": 76,
   "metadata": {},
   "outputs": [
    {
     "data": {
      "image/png": "[encoded data removed]",
      "text/plain": [
       "<Figure size 432x288 with 1 Axes>"
      ]
     },
     "metadata": {},
     "output_type": "display_data"
    }
   ],
   "source": [
    "sns.barplot(x = last_rating, y =num_of_employees , palette='coolwarm')\n",
    "plt.show()"
   ]
  },
  {
   "cell_type": "markdown",
   "metadata": {},
   "source": [
    "### 14. count of employees according to desingnation"
   ]
  },
  {
   "cell_type": "code",
   "execution_count": 77,
   "metadata": {},
   "outputs": [
    {
     "name": "stdout",
     "output_type": "stream",
     "text": [
      "+------------------+-------------+\n",
      "|             title|count(emp_no)|\n",
      "+------------------+-------------+\n",
      "|             Staff|       107384|\n",
      "|Assistant Engineer|         5835|\n",
      "|      Senior Staff|        26583|\n",
      "|   Senior Engineer|        97747|\n",
      "|          Engineer|        47303|\n",
      "|           Manager|           24|\n",
      "|  Technique Leader|        15148|\n",
      "+------------------+-------------+\n",
      "\n"
     ]
    }
   ],
   "source": [
    "spark.sql(\"SELECT T.title,COUNT(EMP.emp_no)  FROM titles T INNER JOIN employees EMP ON T.title_id = EMP.emp_title_id GROUP BY(T.title)\").show()"
   ]
  },
  {
   "cell_type": "code",
   "execution_count": 78,
   "metadata": {},
   "outputs": [],
   "source": [
    "des = spark.sql(\"SELECT T.title,COUNT(EMP.emp_no)  FROM titles T INNER JOIN employees EMP ON T.title_id = EMP.emp_title_id GROUP BY(T.title)\")"
   ]
  },
  {
   "cell_type": "code",
   "execution_count": 81,
   "metadata": {},
   "outputs": [],
   "source": [
    "designation = des.toPandas() "
   ]
  },
  {
   "cell_type": "code",
   "execution_count": 82,
   "metadata": {},
   "outputs": [
    {
     "data": {
      "text/html": [
       "<div>\n",
       "<style scoped>\n",
       "    .dataframe tbody tr th:only-of-type {\n",
       "        vertical-align: middle;\n",
       "    }\n",
       "\n",
       "    .dataframe tbody tr th {\n",
       "        vertical-align: top;\n",
       "    }\n",
       "\n",
       "    .dataframe thead th {\n",
       "        text-align: right;\n",
       "    }\n",
       "</style>\n",
       "<table border=\"1\" class=\"dataframe\">\n",
       "  <thead>\n",
       "    <tr style=\"text-align: right;\">\n",
       "      <th></th>\n",
       "      <th>title</th>\n",
       "      <th>count(emp_no)</th>\n",
       "    </tr>\n",
       "  </thead>\n",
       "  <tbody>\n",
       "    <tr>\n",
       "      <th>0</th>\n",
       "      <td>Staff</td>\n",
       "      <td>107384</td>\n",
       "    </tr>\n",
       "    <tr>\n",
       "      <th>1</th>\n",
       "      <td>Assistant Engineer</td>\n",
       "      <td>5835</td>\n",
       "    </tr>\n",
       "    <tr>\n",
       "      <th>2</th>\n",
       "      <td>Senior Staff</td>\n",
       "      <td>26583</td>\n",
       "    </tr>\n",
       "    <tr>\n",
       "      <th>3</th>\n",
       "      <td>Senior Engineer</td>\n",
       "      <td>97747</td>\n",
       "    </tr>\n",
       "    <tr>\n",
       "      <th>4</th>\n",
       "      <td>Engineer</td>\n",
       "      <td>47303</td>\n",
       "    </tr>\n",
       "    <tr>\n",
       "      <th>5</th>\n",
       "      <td>Manager</td>\n",
       "      <td>24</td>\n",
       "    </tr>\n",
       "    <tr>\n",
       "      <th>6</th>\n",
       "      <td>Technique Leader</td>\n",
       "      <td>15148</td>\n",
       "    </tr>\n",
       "  </tbody>\n",
       "</table>\n",
       "</div>"
      ],
      "text/plain": [
       "                title  count(emp_no)\n",
       "0               Staff         107384\n",
       "1  Assistant Engineer           5835\n",
       "2        Senior Staff          26583\n",
       "3     Senior Engineer          97747\n",
       "4            Engineer          47303\n",
       "5             Manager             24\n",
       "6    Technique Leader          15148"
      ]
     },
     "execution_count": 82,
     "metadata": {},
     "output_type": "execute_result"
    }
   ],
   "source": [
    "designation"
   ]
  },
  {
   "cell_type": "code",
   "execution_count": 114,
   "metadata": {},
   "outputs": [
    {
     "data": {
      "image/png": "[encoded data removed]",
      "text/plain": [
       "<Figure size 720x576 with 1 Axes>"
      ]
     },
     "metadata": {},
     "output_type": "display_data"
    }
   ],
   "source": [
    "plt.figure(figsize=(10,8))\n",
    "plt.pie(data = designation, x ='count(emp_no)',autopct='%1.2f%%',labels='title')\n",
    "plt.show()"
   ]
  },
  {
   "cell_type": "markdown",
   "metadata": {},
   "source": [
    "### 15. Employees who are registered in more than one department"
   ]
  },
  {
   "cell_type": "code",
   "execution_count": 120,
   "metadata": {},
   "outputs": [
    {
     "name": "stdout",
     "output_type": "stream",
     "text": [
      "+------+---------+\n",
      "|emp_no|frequency|\n",
      "+------+---------+\n",
      "| 13528|        2|\n",
      "| 17926|        2|\n",
      "| 18304|        2|\n",
      "| 18750|        2|\n",
      "| 21517|        2|\n",
      "| 23581|        2|\n",
      "| 33060|        2|\n",
      "| 33369|        2|\n",
      "| 36130|        2|\n",
      "| 36946|        2|\n",
      "| 38776|        2|\n",
      "| 39621|        2|\n",
      "| 40253|        2|\n",
      "| 40343|        2|\n",
      "| 41185|        2|\n",
      "| 42537|        2|\n",
      "| 43401|        2|\n",
      "| 43419|        2|\n",
      "| 44224|        2|\n",
      "| 46063|        2|\n",
      "+------+---------+\n",
      "only showing top 20 rows\n",
      "\n"
     ]
    }
   ],
   "source": [
    "more = spark.sql(\"SELECT emp_no, count(emp_no) as frequency FROM dept_emp GROUP BY emp_no having count(emp_no) > 1 ORDER BY frequency DESC\").show()"
   ]
  },
  {
   "cell_type": "code",
   "execution_count": 125,
   "metadata": {},
   "outputs": [],
   "source": [
    "more = spark.sql(\"select emp_no, count(emp_no) as frequency from dept_emp group by emp_no having count(emp_no) > 1 order by frequency desc\")"
   ]
  },
  {
   "cell_type": "code",
   "execution_count": 126,
   "metadata": {},
   "outputs": [],
   "source": [
    "m1 = more.toPandas()"
   ]
  },
  {
   "cell_type": "code",
   "execution_count": 127,
   "metadata": {},
   "outputs": [
    {
     "data": {
      "text/plain": [
       "emp_no       31579\n",
       "frequency    31579\n",
       "dtype: int64"
      ]
     },
     "execution_count": 127,
     "metadata": {},
     "output_type": "execute_result"
    }
   ],
   "source": [
    "m1.count()"
   ]
  },
  {
   "cell_type": "markdown",
   "metadata": {},
   "source": [
    "### 16. most paid employees."
   ]
  },
  {
   "cell_type": "code",
   "execution_count": 129,
   "metadata": {},
   "outputs": [
    {
     "name": "stdout",
     "output_type": "stream",
     "text": [
      "+------------+-------------+-----------+\n",
      "|  first_name|    last_name|sum(salary)|\n",
      "+------------+-------------+-----------+\n",
      "|    Mohammad|       Ullian|     267002|\n",
      "|      Bartek|      Garnier|     259201|\n",
      "|     Rosalyn|       Baalen|     257234|\n",
      "|    Radoslaw|         Pfau|     254066|\n",
      "|         Gad|        Krone|     251992|\n",
      "|      Divine|      Ebeling|     248562|\n",
      "|        Iara|      Breugel|     246766|\n",
      "|        Eben|    Francisci|     243202|\n",
      "|    Yonghong|      Codenie|     241874|\n",
      "|     Zongyan|      DiGiano|     241645|\n",
      "|   Laurentiu|     Cesareni|     239415|\n",
      "| Constantijn|     Pramanik|     236752|\n",
      "|    Yuichiro|      Brendel|     235377|\n",
      "|    Branimir|     Griswold|     235302|\n",
      "|    Jasminko|        Junot|     234801|\n",
      "|      Jaques|       Zaiane|     233109|\n",
      "|Sivanarayana|Chandrasekhar|     230977|\n",
      "|    Jasminko|   Goldhammer|     230706|\n",
      "|     Martijn|   Besancenot|     230697|\n",
      "|        Marc|       Stille|     228853|\n",
      "+------------+-------------+-----------+\n",
      "only showing top 20 rows\n",
      "\n"
     ]
    }
   ],
   "source": [
    "spark.sql(\"\"\"SELECT t1.first_name,t1.last_name, SUM(t2.salary) FROM employees t1 \n",
    "LEFT JOIN salaries t2 \n",
    "    ON t1.emp_no = t2.emp_no\n",
    "GROUP BY t1.first_name,t1.last_name\n",
    "ORDER BY sum(t2.salary) DESC\"\"\").show()"
   ]
  },
  {
   "cell_type": "code",
   "execution_count": null,
   "metadata": {},
   "outputs": [],
   "source": []
  }
 ],
 "metadata": {
  "kernelspec": {
   "display_name": "Python 3",
   "language": "python",
   "name": "python3"
  },
  "language_info": {
   "codemirror_mode": {
    "name": "ipython",
    "version": 3
   },
   "file_extension": ".py",
   "mimetype": "text/x-python",
   "name": "python",
   "nbconvert_exporter": "python",
   "pygments_lexer": "ipython3",
   "version": "3.7.6"
  }
 },
 "nbformat": 4,
 "nbformat_minor": 4
}
